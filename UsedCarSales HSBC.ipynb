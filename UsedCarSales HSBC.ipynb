{
 "cells": [
  {
   "cell_type": "code",
   "execution_count": 2,
   "metadata": {},
   "outputs": [
    {
     "name": "stdout",
     "output_type": "stream",
     "text": [
      "/Users/rajeshprabhakar/Desktop/PythonDataFolder\n"
     ]
    }
   ],
   "source": [
    "import os\n",
    "%cd /Users/rajeshprabhakar/Desktop/PythonDataFolder"
   ]
  },
  {
   "cell_type": "code",
   "execution_count": 3,
   "metadata": {},
   "outputs": [],
   "source": [
    "import pandas as pd\n",
    "import numpy as np\n",
    "import matplotlib.pyplot as plt\n",
    "%matplotlib inline"
   ]
  },
  {
   "cell_type": "code",
   "execution_count": 4,
   "metadata": {},
   "outputs": [],
   "source": [
    "# Pandas - Library for Data Frame related operations - import/export\n",
    "# plot, concat, etc.\n",
    "# Dataframe is by default rows are observations and columns are variables\n",
    "# In Excel - data table\n",
    "# Variable defines a unique feature - Age, Gender,Education, etc.\n",
    "# Observations are values for the variables - 25, Male, BTech.\n",
    "\n",
    "# matplotlib.pyplot - Library for Data Vizualization - increase size of\n",
    "# plotting area, multiple plots is one window"
   ]
  },
  {
   "cell_type": "code",
   "execution_count": 5,
   "metadata": {},
   "outputs": [],
   "source": [
    "# Numpy - Library for array based operations or list operations.\n",
    "# Subpackages in Numpy \n",
    "# 1) Scipy.stats - Statistical Methods\n",
    "# 2) Statsmodels - TimeSeries Data or IOT Data\n",
    "# 3) Scikit Learn(sklearn) - Machine Learning(PreProcessing, Regression,\n",
    "# Classification, Clustering, etc.)\n",
    "\n",
    "# Other libraries\n",
    "# Keras - Deep Learning (backend Tensorflow)\n",
    "# nltk - Natural Language Processing"
   ]
  },
  {
   "cell_type": "code",
   "execution_count": 8,
   "metadata": {},
   "outputs": [],
   "source": [
    "usedcarsales=pd.read_csv(\"usedcarsales.csv\")\n",
    "# pd - Libarary name\n",
    "# read_csv() Function to import csv files"
   ]
  },
  {
   "cell_type": "code",
   "execution_count": 9,
   "metadata": {},
   "outputs": [
    {
     "data": {
      "text/plain": [
       "(1436, 13)"
      ]
     },
     "execution_count": 9,
     "metadata": {},
     "output_type": "execute_result"
    }
   ],
   "source": [
    "usedcarsales.shape # Number of Rows & Number of Columns"
   ]
  },
  {
   "cell_type": "code",
   "execution_count": 10,
   "metadata": {},
   "outputs": [
    {
     "data": {
      "text/html": [
       "<div>\n",
       "<style scoped>\n",
       "    .dataframe tbody tr th:only-of-type {\n",
       "        vertical-align: middle;\n",
       "    }\n",
       "\n",
       "    .dataframe tbody tr th {\n",
       "        vertical-align: top;\n",
       "    }\n",
       "\n",
       "    .dataframe thead th {\n",
       "        text-align: right;\n",
       "    }\n",
       "</style>\n",
       "<table border=\"1\" class=\"dataframe\">\n",
       "  <thead>\n",
       "    <tr style=\"text-align: right;\">\n",
       "      <th></th>\n",
       "      <th>Unnamed: 0</th>\n",
       "      <th>Price</th>\n",
       "      <th>Age</th>\n",
       "      <th>KM</th>\n",
       "      <th>FuelType</th>\n",
       "      <th>HP</th>\n",
       "      <th>MetColor</th>\n",
       "      <th>Automatic</th>\n",
       "      <th>CC</th>\n",
       "      <th>Doors</th>\n",
       "      <th>Weight</th>\n",
       "      <th>AutoType</th>\n",
       "      <th>MetColorType</th>\n",
       "    </tr>\n",
       "  </thead>\n",
       "  <tbody>\n",
       "    <tr>\n",
       "      <th>0</th>\n",
       "      <td>1</td>\n",
       "      <td>13500</td>\n",
       "      <td>23</td>\n",
       "      <td>46986</td>\n",
       "      <td>Diesel</td>\n",
       "      <td>90</td>\n",
       "      <td>1</td>\n",
       "      <td>0</td>\n",
       "      <td>2000</td>\n",
       "      <td>3</td>\n",
       "      <td>1165</td>\n",
       "      <td>Manual</td>\n",
       "      <td>Metcolor</td>\n",
       "    </tr>\n",
       "    <tr>\n",
       "      <th>1</th>\n",
       "      <td>2</td>\n",
       "      <td>13750</td>\n",
       "      <td>23</td>\n",
       "      <td>72937</td>\n",
       "      <td>Diesel</td>\n",
       "      <td>90</td>\n",
       "      <td>1</td>\n",
       "      <td>0</td>\n",
       "      <td>2000</td>\n",
       "      <td>3</td>\n",
       "      <td>1165</td>\n",
       "      <td>Manual</td>\n",
       "      <td>Metcolor</td>\n",
       "    </tr>\n",
       "    <tr>\n",
       "      <th>2</th>\n",
       "      <td>3</td>\n",
       "      <td>13950</td>\n",
       "      <td>24</td>\n",
       "      <td>41711</td>\n",
       "      <td>Diesel</td>\n",
       "      <td>90</td>\n",
       "      <td>1</td>\n",
       "      <td>0</td>\n",
       "      <td>2000</td>\n",
       "      <td>3</td>\n",
       "      <td>1165</td>\n",
       "      <td>Manual</td>\n",
       "      <td>Metcolor</td>\n",
       "    </tr>\n",
       "    <tr>\n",
       "      <th>3</th>\n",
       "      <td>4</td>\n",
       "      <td>14950</td>\n",
       "      <td>26</td>\n",
       "      <td>48000</td>\n",
       "      <td>Diesel</td>\n",
       "      <td>90</td>\n",
       "      <td>0</td>\n",
       "      <td>0</td>\n",
       "      <td>2000</td>\n",
       "      <td>3</td>\n",
       "      <td>1165</td>\n",
       "      <td>Manual</td>\n",
       "      <td>NonMetcolor</td>\n",
       "    </tr>\n",
       "    <tr>\n",
       "      <th>4</th>\n",
       "      <td>5</td>\n",
       "      <td>13750</td>\n",
       "      <td>30</td>\n",
       "      <td>38500</td>\n",
       "      <td>Diesel</td>\n",
       "      <td>90</td>\n",
       "      <td>0</td>\n",
       "      <td>0</td>\n",
       "      <td>2000</td>\n",
       "      <td>3</td>\n",
       "      <td>1170</td>\n",
       "      <td>Manual</td>\n",
       "      <td>NonMetcolor</td>\n",
       "    </tr>\n",
       "  </tbody>\n",
       "</table>\n",
       "</div>"
      ],
      "text/plain": [
       "   Unnamed: 0  Price  Age     KM FuelType  HP  MetColor  Automatic    CC  \\\n",
       "0           1  13500   23  46986   Diesel  90         1          0  2000   \n",
       "1           2  13750   23  72937   Diesel  90         1          0  2000   \n",
       "2           3  13950   24  41711   Diesel  90         1          0  2000   \n",
       "3           4  14950   26  48000   Diesel  90         0          0  2000   \n",
       "4           5  13750   30  38500   Diesel  90         0          0  2000   \n",
       "\n",
       "   Doors  Weight AutoType MetColorType  \n",
       "0      3    1165   Manual     Metcolor  \n",
       "1      3    1165   Manual     Metcolor  \n",
       "2      3    1165   Manual     Metcolor  \n",
       "3      3    1165   Manual  NonMetcolor  \n",
       "4      3    1170   Manual  NonMetcolor  "
      ]
     },
     "execution_count": 10,
     "metadata": {},
     "output_type": "execute_result"
    }
   ],
   "source": [
    "usedcarsales.head() # First 5 Rows of Data"
   ]
  },
  {
   "cell_type": "code",
   "execution_count": 11,
   "metadata": {},
   "outputs": [
    {
     "data": {
      "text/html": [
       "<div>\n",
       "<style scoped>\n",
       "    .dataframe tbody tr th:only-of-type {\n",
       "        vertical-align: middle;\n",
       "    }\n",
       "\n",
       "    .dataframe tbody tr th {\n",
       "        vertical-align: top;\n",
       "    }\n",
       "\n",
       "    .dataframe thead th {\n",
       "        text-align: right;\n",
       "    }\n",
       "</style>\n",
       "<table border=\"1\" class=\"dataframe\">\n",
       "  <thead>\n",
       "    <tr style=\"text-align: right;\">\n",
       "      <th></th>\n",
       "      <th>Unnamed: 0</th>\n",
       "      <th>Price</th>\n",
       "      <th>Age</th>\n",
       "      <th>KM</th>\n",
       "      <th>FuelType</th>\n",
       "      <th>HP</th>\n",
       "      <th>MetColor</th>\n",
       "      <th>Automatic</th>\n",
       "      <th>CC</th>\n",
       "      <th>Doors</th>\n",
       "      <th>Weight</th>\n",
       "      <th>AutoType</th>\n",
       "      <th>MetColorType</th>\n",
       "    </tr>\n",
       "  </thead>\n",
       "  <tbody>\n",
       "    <tr>\n",
       "      <th>0</th>\n",
       "      <td>1</td>\n",
       "      <td>13500</td>\n",
       "      <td>23</td>\n",
       "      <td>46986</td>\n",
       "      <td>Diesel</td>\n",
       "      <td>90</td>\n",
       "      <td>1</td>\n",
       "      <td>0</td>\n",
       "      <td>2000</td>\n",
       "      <td>3</td>\n",
       "      <td>1165</td>\n",
       "      <td>Manual</td>\n",
       "      <td>Metcolor</td>\n",
       "    </tr>\n",
       "    <tr>\n",
       "      <th>1</th>\n",
       "      <td>2</td>\n",
       "      <td>13750</td>\n",
       "      <td>23</td>\n",
       "      <td>72937</td>\n",
       "      <td>Diesel</td>\n",
       "      <td>90</td>\n",
       "      <td>1</td>\n",
       "      <td>0</td>\n",
       "      <td>2000</td>\n",
       "      <td>3</td>\n",
       "      <td>1165</td>\n",
       "      <td>Manual</td>\n",
       "      <td>Metcolor</td>\n",
       "    </tr>\n",
       "  </tbody>\n",
       "</table>\n",
       "</div>"
      ],
      "text/plain": [
       "   Unnamed: 0  Price  Age     KM FuelType  HP  MetColor  Automatic    CC  \\\n",
       "0           1  13500   23  46986   Diesel  90         1          0  2000   \n",
       "1           2  13750   23  72937   Diesel  90         1          0  2000   \n",
       "\n",
       "   Doors  Weight AutoType MetColorType  \n",
       "0      3    1165   Manual     Metcolor  \n",
       "1      3    1165   Manual     Metcolor  "
      ]
     },
     "execution_count": 11,
     "metadata": {},
     "output_type": "execute_result"
    }
   ],
   "source": [
    "usedcarsales.head(2) # First 2 Rows, Specify in Integer"
   ]
  },
  {
   "cell_type": "code",
   "execution_count": 12,
   "metadata": {},
   "outputs": [
    {
     "data": {
      "text/html": [
       "<div>\n",
       "<style scoped>\n",
       "    .dataframe tbody tr th:only-of-type {\n",
       "        vertical-align: middle;\n",
       "    }\n",
       "\n",
       "    .dataframe tbody tr th {\n",
       "        vertical-align: top;\n",
       "    }\n",
       "\n",
       "    .dataframe thead th {\n",
       "        text-align: right;\n",
       "    }\n",
       "</style>\n",
       "<table border=\"1\" class=\"dataframe\">\n",
       "  <thead>\n",
       "    <tr style=\"text-align: right;\">\n",
       "      <th></th>\n",
       "      <th>Unnamed: 0</th>\n",
       "      <th>Price</th>\n",
       "      <th>Age</th>\n",
       "      <th>KM</th>\n",
       "      <th>FuelType</th>\n",
       "      <th>HP</th>\n",
       "      <th>MetColor</th>\n",
       "      <th>Automatic</th>\n",
       "      <th>CC</th>\n",
       "      <th>Doors</th>\n",
       "      <th>Weight</th>\n",
       "      <th>AutoType</th>\n",
       "      <th>MetColorType</th>\n",
       "    </tr>\n",
       "  </thead>\n",
       "  <tbody>\n",
       "    <tr>\n",
       "      <th>1426</th>\n",
       "      <td>1427</td>\n",
       "      <td>9950</td>\n",
       "      <td>78</td>\n",
       "      <td>30964</td>\n",
       "      <td>Petrol</td>\n",
       "      <td>110</td>\n",
       "      <td>0</td>\n",
       "      <td>1</td>\n",
       "      <td>1600</td>\n",
       "      <td>3</td>\n",
       "      <td>1080</td>\n",
       "      <td>Auto</td>\n",
       "      <td>NonMetcolor</td>\n",
       "    </tr>\n",
       "    <tr>\n",
       "      <th>1427</th>\n",
       "      <td>1428</td>\n",
       "      <td>8950</td>\n",
       "      <td>71</td>\n",
       "      <td>29000</td>\n",
       "      <td>Petrol</td>\n",
       "      <td>86</td>\n",
       "      <td>1</td>\n",
       "      <td>1</td>\n",
       "      <td>1300</td>\n",
       "      <td>3</td>\n",
       "      <td>1045</td>\n",
       "      <td>Auto</td>\n",
       "      <td>Metcolor</td>\n",
       "    </tr>\n",
       "    <tr>\n",
       "      <th>1428</th>\n",
       "      <td>1429</td>\n",
       "      <td>8450</td>\n",
       "      <td>72</td>\n",
       "      <td>26000</td>\n",
       "      <td>Petrol</td>\n",
       "      <td>86</td>\n",
       "      <td>0</td>\n",
       "      <td>0</td>\n",
       "      <td>1300</td>\n",
       "      <td>3</td>\n",
       "      <td>1015</td>\n",
       "      <td>Manual</td>\n",
       "      <td>NonMetcolor</td>\n",
       "    </tr>\n",
       "    <tr>\n",
       "      <th>1429</th>\n",
       "      <td>1430</td>\n",
       "      <td>8950</td>\n",
       "      <td>78</td>\n",
       "      <td>24000</td>\n",
       "      <td>Petrol</td>\n",
       "      <td>86</td>\n",
       "      <td>1</td>\n",
       "      <td>1</td>\n",
       "      <td>1300</td>\n",
       "      <td>5</td>\n",
       "      <td>1065</td>\n",
       "      <td>Auto</td>\n",
       "      <td>Metcolor</td>\n",
       "    </tr>\n",
       "    <tr>\n",
       "      <th>1430</th>\n",
       "      <td>1431</td>\n",
       "      <td>8450</td>\n",
       "      <td>80</td>\n",
       "      <td>23000</td>\n",
       "      <td>Petrol</td>\n",
       "      <td>86</td>\n",
       "      <td>0</td>\n",
       "      <td>0</td>\n",
       "      <td>1300</td>\n",
       "      <td>3</td>\n",
       "      <td>1015</td>\n",
       "      <td>Manual</td>\n",
       "      <td>NonMetcolor</td>\n",
       "    </tr>\n",
       "    <tr>\n",
       "      <th>1431</th>\n",
       "      <td>1432</td>\n",
       "      <td>7500</td>\n",
       "      <td>69</td>\n",
       "      <td>20544</td>\n",
       "      <td>Petrol</td>\n",
       "      <td>86</td>\n",
       "      <td>1</td>\n",
       "      <td>0</td>\n",
       "      <td>1300</td>\n",
       "      <td>3</td>\n",
       "      <td>1025</td>\n",
       "      <td>Manual</td>\n",
       "      <td>Metcolor</td>\n",
       "    </tr>\n",
       "    <tr>\n",
       "      <th>1432</th>\n",
       "      <td>1433</td>\n",
       "      <td>10845</td>\n",
       "      <td>72</td>\n",
       "      <td>19000</td>\n",
       "      <td>Petrol</td>\n",
       "      <td>86</td>\n",
       "      <td>0</td>\n",
       "      <td>0</td>\n",
       "      <td>1300</td>\n",
       "      <td>3</td>\n",
       "      <td>1015</td>\n",
       "      <td>Manual</td>\n",
       "      <td>NonMetcolor</td>\n",
       "    </tr>\n",
       "    <tr>\n",
       "      <th>1433</th>\n",
       "      <td>1434</td>\n",
       "      <td>8500</td>\n",
       "      <td>71</td>\n",
       "      <td>17016</td>\n",
       "      <td>Petrol</td>\n",
       "      <td>86</td>\n",
       "      <td>0</td>\n",
       "      <td>0</td>\n",
       "      <td>1300</td>\n",
       "      <td>3</td>\n",
       "      <td>1015</td>\n",
       "      <td>Manual</td>\n",
       "      <td>NonMetcolor</td>\n",
       "    </tr>\n",
       "    <tr>\n",
       "      <th>1434</th>\n",
       "      <td>1435</td>\n",
       "      <td>7250</td>\n",
       "      <td>70</td>\n",
       "      <td>16916</td>\n",
       "      <td>Petrol</td>\n",
       "      <td>86</td>\n",
       "      <td>1</td>\n",
       "      <td>0</td>\n",
       "      <td>1300</td>\n",
       "      <td>3</td>\n",
       "      <td>1015</td>\n",
       "      <td>Manual</td>\n",
       "      <td>Metcolor</td>\n",
       "    </tr>\n",
       "    <tr>\n",
       "      <th>1435</th>\n",
       "      <td>1436</td>\n",
       "      <td>6950</td>\n",
       "      <td>76</td>\n",
       "      <td>1</td>\n",
       "      <td>Petrol</td>\n",
       "      <td>110</td>\n",
       "      <td>0</td>\n",
       "      <td>0</td>\n",
       "      <td>1600</td>\n",
       "      <td>5</td>\n",
       "      <td>1114</td>\n",
       "      <td>Manual</td>\n",
       "      <td>NonMetcolor</td>\n",
       "    </tr>\n",
       "  </tbody>\n",
       "</table>\n",
       "</div>"
      ],
      "text/plain": [
       "      Unnamed: 0  Price  Age     KM FuelType   HP  MetColor  Automatic    CC  \\\n",
       "1426        1427   9950   78  30964   Petrol  110         0          1  1600   \n",
       "1427        1428   8950   71  29000   Petrol   86         1          1  1300   \n",
       "1428        1429   8450   72  26000   Petrol   86         0          0  1300   \n",
       "1429        1430   8950   78  24000   Petrol   86         1          1  1300   \n",
       "1430        1431   8450   80  23000   Petrol   86         0          0  1300   \n",
       "1431        1432   7500   69  20544   Petrol   86         1          0  1300   \n",
       "1432        1433  10845   72  19000   Petrol   86         0          0  1300   \n",
       "1433        1434   8500   71  17016   Petrol   86         0          0  1300   \n",
       "1434        1435   7250   70  16916   Petrol   86         1          0  1300   \n",
       "1435        1436   6950   76      1   Petrol  110         0          0  1600   \n",
       "\n",
       "      Doors  Weight AutoType MetColorType  \n",
       "1426      3    1080     Auto  NonMetcolor  \n",
       "1427      3    1045     Auto     Metcolor  \n",
       "1428      3    1015   Manual  NonMetcolor  \n",
       "1429      5    1065     Auto     Metcolor  \n",
       "1430      3    1015   Manual  NonMetcolor  \n",
       "1431      3    1025   Manual     Metcolor  \n",
       "1432      3    1015   Manual  NonMetcolor  \n",
       "1433      3    1015   Manual  NonMetcolor  \n",
       "1434      3    1015   Manual     Metcolor  \n",
       "1435      5    1114   Manual  NonMetcolor  "
      ]
     },
     "execution_count": 12,
     "metadata": {},
     "output_type": "execute_result"
    }
   ],
   "source": [
    "usedcarsales.tail(10) # Last 10 rows of data, by default only 5 rows"
   ]
  },
  {
   "cell_type": "code",
   "execution_count": 13,
   "metadata": {},
   "outputs": [
    {
     "data": {
      "text/plain": [
       "Unnamed: 0       int64\n",
       "Price            int64\n",
       "Age              int64\n",
       "KM               int64\n",
       "FuelType        object\n",
       "HP               int64\n",
       "MetColor         int64\n",
       "Automatic        int64\n",
       "CC               int64\n",
       "Doors            int64\n",
       "Weight           int64\n",
       "AutoType        object\n",
       "MetColorType    object\n",
       "dtype: object"
      ]
     },
     "execution_count": 13,
     "metadata": {},
     "output_type": "execute_result"
    }
   ],
   "source": [
    "usedcarsales.dtypes # Individual Variable data types \n",
    "# Data Types - int64, float64, number, object(string), datetime"
   ]
  },
  {
   "cell_type": "code",
   "execution_count": 14,
   "metadata": {},
   "outputs": [
    {
     "data": {
      "text/plain": [
       "Index(['Unnamed: 0', 'Price', 'Age', 'KM', 'FuelType', 'HP', 'MetColor',\n",
       "       'Automatic', 'CC', 'Doors', 'Weight', 'AutoType', 'MetColorType'],\n",
       "      dtype='object')"
      ]
     },
     "execution_count": 14,
     "metadata": {},
     "output_type": "execute_result"
    }
   ],
   "source": [
    "usedcarsales.columns"
   ]
  },
  {
   "cell_type": "code",
   "execution_count": 15,
   "metadata": {},
   "outputs": [],
   "source": [
    "# EXPLORATORY DATA ANALYSIS (EDA) - DESCRIPTIVE STATISTICS & \n",
    "# DATA VIZUALIZATION\n",
    "# DESCRIPTIVE STATISTICS - UNIVARIATE STATISTICS\n",
    "# MEASURES OF CENTRAL TENDENCY - MEAN, MEDIAN, MODE\n",
    "# MEASURES OF DISPERSION - RANGE, VARIANCE, STANDARD DEVIATION, QUARTILES,\n",
    "# PERCENTILES & DECILES (DISPERSION -SCATTERING AROUND MEAN)\n",
    "# MEASURES OF ASYMMETRY - SKEWNESS & KURTOSIS (CLOSE DATA IS TO NORMAL \n",
    "# DISTRIBUTION OR BELL CURVE)"
   ]
  },
  {
   "cell_type": "code",
   "execution_count": 17,
   "metadata": {},
   "outputs": [
    {
     "data": {
      "text/html": [
       "<div>\n",
       "<style scoped>\n",
       "    .dataframe tbody tr th:only-of-type {\n",
       "        vertical-align: middle;\n",
       "    }\n",
       "\n",
       "    .dataframe tbody tr th {\n",
       "        vertical-align: top;\n",
       "    }\n",
       "\n",
       "    .dataframe thead th {\n",
       "        text-align: right;\n",
       "    }\n",
       "</style>\n",
       "<table border=\"1\" class=\"dataframe\">\n",
       "  <thead>\n",
       "    <tr style=\"text-align: right;\">\n",
       "      <th></th>\n",
       "      <th>Unnamed: 0</th>\n",
       "      <th>Price</th>\n",
       "      <th>Age</th>\n",
       "      <th>KM</th>\n",
       "      <th>HP</th>\n",
       "      <th>MetColor</th>\n",
       "      <th>Automatic</th>\n",
       "      <th>CC</th>\n",
       "      <th>Doors</th>\n",
       "      <th>Weight</th>\n",
       "    </tr>\n",
       "  </thead>\n",
       "  <tbody>\n",
       "    <tr>\n",
       "      <th>count</th>\n",
       "      <td>1436.000000</td>\n",
       "      <td>1436.000000</td>\n",
       "      <td>1436.000000</td>\n",
       "      <td>1436.000000</td>\n",
       "      <td>1436.000000</td>\n",
       "      <td>1436.000000</td>\n",
       "      <td>1436.000000</td>\n",
       "      <td>1436.000000</td>\n",
       "      <td>1436.000000</td>\n",
       "      <td>1436.00000</td>\n",
       "    </tr>\n",
       "    <tr>\n",
       "      <th>mean</th>\n",
       "      <td>718.500000</td>\n",
       "      <td>10730.824513</td>\n",
       "      <td>55.947075</td>\n",
       "      <td>68533.259749</td>\n",
       "      <td>101.502089</td>\n",
       "      <td>0.674791</td>\n",
       "      <td>0.055710</td>\n",
       "      <td>1566.827994</td>\n",
       "      <td>4.033426</td>\n",
       "      <td>1072.45961</td>\n",
       "    </tr>\n",
       "    <tr>\n",
       "      <th>std</th>\n",
       "      <td>414.681806</td>\n",
       "      <td>3626.964585</td>\n",
       "      <td>18.599988</td>\n",
       "      <td>37506.448872</td>\n",
       "      <td>14.981080</td>\n",
       "      <td>0.468616</td>\n",
       "      <td>0.229441</td>\n",
       "      <td>187.182436</td>\n",
       "      <td>0.952677</td>\n",
       "      <td>52.64112</td>\n",
       "    </tr>\n",
       "    <tr>\n",
       "      <th>min</th>\n",
       "      <td>1.000000</td>\n",
       "      <td>4350.000000</td>\n",
       "      <td>1.000000</td>\n",
       "      <td>1.000000</td>\n",
       "      <td>69.000000</td>\n",
       "      <td>0.000000</td>\n",
       "      <td>0.000000</td>\n",
       "      <td>1300.000000</td>\n",
       "      <td>2.000000</td>\n",
       "      <td>1000.00000</td>\n",
       "    </tr>\n",
       "    <tr>\n",
       "      <th>25%</th>\n",
       "      <td>359.750000</td>\n",
       "      <td>8450.000000</td>\n",
       "      <td>44.000000</td>\n",
       "      <td>43000.000000</td>\n",
       "      <td>90.000000</td>\n",
       "      <td>0.000000</td>\n",
       "      <td>0.000000</td>\n",
       "      <td>1400.000000</td>\n",
       "      <td>3.000000</td>\n",
       "      <td>1040.00000</td>\n",
       "    </tr>\n",
       "    <tr>\n",
       "      <th>50%</th>\n",
       "      <td>718.500000</td>\n",
       "      <td>9900.000000</td>\n",
       "      <td>61.000000</td>\n",
       "      <td>63389.500000</td>\n",
       "      <td>110.000000</td>\n",
       "      <td>1.000000</td>\n",
       "      <td>0.000000</td>\n",
       "      <td>1600.000000</td>\n",
       "      <td>4.000000</td>\n",
       "      <td>1070.00000</td>\n",
       "    </tr>\n",
       "    <tr>\n",
       "      <th>75%</th>\n",
       "      <td>1077.250000</td>\n",
       "      <td>11950.000000</td>\n",
       "      <td>70.000000</td>\n",
       "      <td>87020.750000</td>\n",
       "      <td>110.000000</td>\n",
       "      <td>1.000000</td>\n",
       "      <td>0.000000</td>\n",
       "      <td>1600.000000</td>\n",
       "      <td>5.000000</td>\n",
       "      <td>1085.00000</td>\n",
       "    </tr>\n",
       "    <tr>\n",
       "      <th>max</th>\n",
       "      <td>1436.000000</td>\n",
       "      <td>32500.000000</td>\n",
       "      <td>80.000000</td>\n",
       "      <td>243000.000000</td>\n",
       "      <td>192.000000</td>\n",
       "      <td>1.000000</td>\n",
       "      <td>1.000000</td>\n",
       "      <td>2000.000000</td>\n",
       "      <td>5.000000</td>\n",
       "      <td>1615.00000</td>\n",
       "    </tr>\n",
       "  </tbody>\n",
       "</table>\n",
       "</div>"
      ],
      "text/plain": [
       "        Unnamed: 0         Price          Age             KM           HP  \\\n",
       "count  1436.000000   1436.000000  1436.000000    1436.000000  1436.000000   \n",
       "mean    718.500000  10730.824513    55.947075   68533.259749   101.502089   \n",
       "std     414.681806   3626.964585    18.599988   37506.448872    14.981080   \n",
       "min       1.000000   4350.000000     1.000000       1.000000    69.000000   \n",
       "25%     359.750000   8450.000000    44.000000   43000.000000    90.000000   \n",
       "50%     718.500000   9900.000000    61.000000   63389.500000   110.000000   \n",
       "75%    1077.250000  11950.000000    70.000000   87020.750000   110.000000   \n",
       "max    1436.000000  32500.000000    80.000000  243000.000000   192.000000   \n",
       "\n",
       "          MetColor    Automatic           CC        Doors      Weight  \n",
       "count  1436.000000  1436.000000  1436.000000  1436.000000  1436.00000  \n",
       "mean      0.674791     0.055710  1566.827994     4.033426  1072.45961  \n",
       "std       0.468616     0.229441   187.182436     0.952677    52.64112  \n",
       "min       0.000000     0.000000  1300.000000     2.000000  1000.00000  \n",
       "25%       0.000000     0.000000  1400.000000     3.000000  1040.00000  \n",
       "50%       1.000000     0.000000  1600.000000     4.000000  1070.00000  \n",
       "75%       1.000000     0.000000  1600.000000     5.000000  1085.00000  \n",
       "max       1.000000     1.000000  2000.000000     5.000000  1615.00000  "
      ]
     },
     "execution_count": 17,
     "metadata": {},
     "output_type": "execute_result"
    }
   ],
   "source": [
    "usedcarsales.describe() # Numerical Data - Min, Max, Mean, Median or 50%,\n",
    "# Std,Q1 or 25%, Q3 or 75%\n",
    "\n",
    "# Average Price - 10730.824513\n",
    "# Median Price or 50%  - 9900.000000\n",
    "# Std - 3626.964585\n",
    "# Mean Distortion - Distorted by Maximum & Minimum Values\n",
    "# Difference of Mean & Median high followed by high Std Deviation"
   ]
  },
  {
   "cell_type": "code",
   "execution_count": 18,
   "metadata": {},
   "outputs": [],
   "source": [
    "# Skewness \n",
    "# Positive Skewness - Curve to the Left side\n",
    "# Negative Skewness - Curve to the Right Side\n",
    "# Zero Skewness - Normal Distribution\n",
    "# Kurtosis\n",
    "# Positive Kurtosis - Tall & Narrow peak\n",
    "# negative Kurtosis - Flat & Wide peak\n",
    "# Zero Kurtosis - Normal Distribution"
   ]
  },
  {
   "cell_type": "code",
   "execution_count": 19,
   "metadata": {},
   "outputs": [
    {
     "data": {
      "text/plain": [
       "Unnamed: 0    0.000000\n",
       "Price         1.703885\n",
       "Age          -0.826702\n",
       "KM            1.015912\n",
       "HP            0.955836\n",
       "MetColor     -0.747029\n",
       "Automatic     3.878197\n",
       "CC            0.607241\n",
       "Doors        -0.076395\n",
       "Weight        3.108639\n",
       "dtype: float64"
      ]
     },
     "execution_count": 19,
     "metadata": {},
     "output_type": "execute_result"
    }
   ],
   "source": [
    "usedcarsales.skew()"
   ]
  },
  {
   "cell_type": "code",
   "execution_count": 20,
   "metadata": {},
   "outputs": [
    {
     "data": {
      "text/plain": [
       "Unnamed: 0    -1.200000\n",
       "Price          3.737781\n",
       "Age           -0.076632\n",
       "KM             1.685057\n",
       "HP             8.836434\n",
       "MetColor      -1.443961\n",
       "Automatic     13.058597\n",
       "CC             0.464484\n",
       "Doors         -1.874765\n",
       "Weight        19.362901\n",
       "dtype: float64"
      ]
     },
     "execution_count": 20,
     "metadata": {},
     "output_type": "execute_result"
    }
   ],
   "source": [
    "usedcarsales.kurt()"
   ]
  },
  {
   "cell_type": "code",
   "execution_count": 21,
   "metadata": {},
   "outputs": [],
   "source": [
    "# Data Vizualizations  - line, bar, pie, stacked bar\n",
    "# 3 Most Important plots - Univariate plots\n",
    "# Histogram - Based on Frequency Distribution Table (LL - UL - Frequency)\n",
    "# Boxplot - Based on Quartiles. Q1, Q2 or Median, Q3, IQR =Q3-Q1\n",
    "# Outliers - Q1 - 1.5*IQR.  or Q3+1.5*IQR\n",
    "# Density Curve - Based on Standard Scores or Z Score ((x-mean)/stddev)"
   ]
  },
  {
   "cell_type": "code",
   "execution_count": 23,
   "metadata": {},
   "outputs": [
    {
     "data": {
      "text/plain": [
       "count     1436.000000\n",
       "mean     10730.824513\n",
       "std       3626.964585\n",
       "min       4350.000000\n",
       "25%       8450.000000\n",
       "50%       9900.000000\n",
       "75%      11950.000000\n",
       "max      32500.000000\n",
       "Name: Price, dtype: float64"
      ]
     },
     "execution_count": 23,
     "metadata": {},
     "output_type": "execute_result"
    }
   ],
   "source": [
    "# INDEXING - SELECTING SPECIFIC ROWS or COLUMNS\n",
    "# CHARACTER INDEXING or INDEXING by COlumn Name\n",
    "usedcarsales.Price.describe()"
   ]
  },
  {
   "cell_type": "code",
   "execution_count": 24,
   "metadata": {},
   "outputs": [
    {
     "data": {
      "text/plain": [
       "count     1436.000000\n",
       "mean     10730.824513\n",
       "std       3626.964585\n",
       "min       4350.000000\n",
       "25%       8450.000000\n",
       "50%       9900.000000\n",
       "75%      11950.000000\n",
       "max      32500.000000\n",
       "Name: Price, dtype: float64"
      ]
     },
     "execution_count": 24,
     "metadata": {},
     "output_type": "execute_result"
    }
   ],
   "source": [
    "# IF the Column Name has spaces, then use Square Brackets\n",
    "usedcarsales['Price'].describe()"
   ]
  },
  {
   "cell_type": "code",
   "execution_count": 25,
   "metadata": {},
   "outputs": [
    {
     "data": {
      "text/html": [
       "<div>\n",
       "<style scoped>\n",
       "    .dataframe tbody tr th:only-of-type {\n",
       "        vertical-align: middle;\n",
       "    }\n",
       "\n",
       "    .dataframe tbody tr th {\n",
       "        vertical-align: top;\n",
       "    }\n",
       "\n",
       "    .dataframe thead th {\n",
       "        text-align: right;\n",
       "    }\n",
       "</style>\n",
       "<table border=\"1\" class=\"dataframe\">\n",
       "  <thead>\n",
       "    <tr style=\"text-align: right;\">\n",
       "      <th></th>\n",
       "      <th>Price</th>\n",
       "      <th>Age</th>\n",
       "      <th>KM</th>\n",
       "    </tr>\n",
       "  </thead>\n",
       "  <tbody>\n",
       "    <tr>\n",
       "      <th>count</th>\n",
       "      <td>1436.000000</td>\n",
       "      <td>1436.000000</td>\n",
       "      <td>1436.000000</td>\n",
       "    </tr>\n",
       "    <tr>\n",
       "      <th>mean</th>\n",
       "      <td>10730.824513</td>\n",
       "      <td>55.947075</td>\n",
       "      <td>68533.259749</td>\n",
       "    </tr>\n",
       "    <tr>\n",
       "      <th>std</th>\n",
       "      <td>3626.964585</td>\n",
       "      <td>18.599988</td>\n",
       "      <td>37506.448872</td>\n",
       "    </tr>\n",
       "    <tr>\n",
       "      <th>min</th>\n",
       "      <td>4350.000000</td>\n",
       "      <td>1.000000</td>\n",
       "      <td>1.000000</td>\n",
       "    </tr>\n",
       "    <tr>\n",
       "      <th>25%</th>\n",
       "      <td>8450.000000</td>\n",
       "      <td>44.000000</td>\n",
       "      <td>43000.000000</td>\n",
       "    </tr>\n",
       "    <tr>\n",
       "      <th>50%</th>\n",
       "      <td>9900.000000</td>\n",
       "      <td>61.000000</td>\n",
       "      <td>63389.500000</td>\n",
       "    </tr>\n",
       "    <tr>\n",
       "      <th>75%</th>\n",
       "      <td>11950.000000</td>\n",
       "      <td>70.000000</td>\n",
       "      <td>87020.750000</td>\n",
       "    </tr>\n",
       "    <tr>\n",
       "      <th>max</th>\n",
       "      <td>32500.000000</td>\n",
       "      <td>80.000000</td>\n",
       "      <td>243000.000000</td>\n",
       "    </tr>\n",
       "  </tbody>\n",
       "</table>\n",
       "</div>"
      ],
      "text/plain": [
       "              Price          Age             KM\n",
       "count   1436.000000  1436.000000    1436.000000\n",
       "mean   10730.824513    55.947075   68533.259749\n",
       "std     3626.964585    18.599988   37506.448872\n",
       "min     4350.000000     1.000000       1.000000\n",
       "25%     8450.000000    44.000000   43000.000000\n",
       "50%     9900.000000    61.000000   63389.500000\n",
       "75%    11950.000000    70.000000   87020.750000\n",
       "max    32500.000000    80.000000  243000.000000"
      ]
     },
     "execution_count": 25,
     "metadata": {},
     "output_type": "execute_result"
    }
   ],
   "source": [
    "# CHARCATER INDEXING - MULTIPLE COLUMNS - SQUARE BRACKETS DOUBLE\n",
    "usedcarsales[['Price','Age','KM']].describe()"
   ]
  },
  {
   "cell_type": "code",
   "execution_count": 27,
   "metadata": {},
   "outputs": [
    {
     "data": {
      "text/plain": [
       "count     1436.000000\n",
       "mean     10730.824513\n",
       "std       3626.964585\n",
       "min       4350.000000\n",
       "25%       8450.000000\n",
       "50%       9900.000000\n",
       "75%      11950.000000\n",
       "max      32500.000000\n",
       "Name: Price, dtype: float64"
      ]
     },
     "execution_count": 27,
     "metadata": {},
     "output_type": "execute_result"
    }
   ],
   "source": [
    "# NUMERIC INDEXING - INDEXING BY COLUMN OR ROW NUMBER. Python Starts with\n",
    "# 0 or Zero\n",
    "usedcarsales.iloc[:,1].describe() # Accessing Column 2 Price\n",
    "# :, indicates Column Selection\n",
    "# iF :, not given it indicates Row Selection"
   ]
  },
  {
   "cell_type": "code",
   "execution_count": 28,
   "metadata": {},
   "outputs": [
    {
     "data": {
      "text/html": [
       "<div>\n",
       "<style scoped>\n",
       "    .dataframe tbody tr th:only-of-type {\n",
       "        vertical-align: middle;\n",
       "    }\n",
       "\n",
       "    .dataframe tbody tr th {\n",
       "        vertical-align: top;\n",
       "    }\n",
       "\n",
       "    .dataframe thead th {\n",
       "        text-align: right;\n",
       "    }\n",
       "</style>\n",
       "<table border=\"1\" class=\"dataframe\">\n",
       "  <thead>\n",
       "    <tr style=\"text-align: right;\">\n",
       "      <th></th>\n",
       "      <th>Price</th>\n",
       "      <th>Age</th>\n",
       "      <th>KM</th>\n",
       "    </tr>\n",
       "  </thead>\n",
       "  <tbody>\n",
       "    <tr>\n",
       "      <th>count</th>\n",
       "      <td>1436.000000</td>\n",
       "      <td>1436.000000</td>\n",
       "      <td>1436.000000</td>\n",
       "    </tr>\n",
       "    <tr>\n",
       "      <th>mean</th>\n",
       "      <td>10730.824513</td>\n",
       "      <td>55.947075</td>\n",
       "      <td>68533.259749</td>\n",
       "    </tr>\n",
       "    <tr>\n",
       "      <th>std</th>\n",
       "      <td>3626.964585</td>\n",
       "      <td>18.599988</td>\n",
       "      <td>37506.448872</td>\n",
       "    </tr>\n",
       "    <tr>\n",
       "      <th>min</th>\n",
       "      <td>4350.000000</td>\n",
       "      <td>1.000000</td>\n",
       "      <td>1.000000</td>\n",
       "    </tr>\n",
       "    <tr>\n",
       "      <th>25%</th>\n",
       "      <td>8450.000000</td>\n",
       "      <td>44.000000</td>\n",
       "      <td>43000.000000</td>\n",
       "    </tr>\n",
       "    <tr>\n",
       "      <th>50%</th>\n",
       "      <td>9900.000000</td>\n",
       "      <td>61.000000</td>\n",
       "      <td>63389.500000</td>\n",
       "    </tr>\n",
       "    <tr>\n",
       "      <th>75%</th>\n",
       "      <td>11950.000000</td>\n",
       "      <td>70.000000</td>\n",
       "      <td>87020.750000</td>\n",
       "    </tr>\n",
       "    <tr>\n",
       "      <th>max</th>\n",
       "      <td>32500.000000</td>\n",
       "      <td>80.000000</td>\n",
       "      <td>243000.000000</td>\n",
       "    </tr>\n",
       "  </tbody>\n",
       "</table>\n",
       "</div>"
      ],
      "text/plain": [
       "              Price          Age             KM\n",
       "count   1436.000000  1436.000000    1436.000000\n",
       "mean   10730.824513    55.947075   68533.259749\n",
       "std     3626.964585    18.599988   37506.448872\n",
       "min     4350.000000     1.000000       1.000000\n",
       "25%     8450.000000    44.000000   43000.000000\n",
       "50%     9900.000000    61.000000   63389.500000\n",
       "75%    11950.000000    70.000000   87020.750000\n",
       "max    32500.000000    80.000000  243000.000000"
      ]
     },
     "execution_count": 28,
     "metadata": {},
     "output_type": "execute_result"
    }
   ],
   "source": [
    "usedcarsales.iloc[:,[1,2,3]].describe() # Multiple Column Selection"
   ]
  },
  {
   "cell_type": "code",
   "execution_count": 31,
   "metadata": {},
   "outputs": [
    {
     "data": {
      "text/plain": [
       "<AxesSubplot:ylabel='Frequency'>"
      ]
     },
     "execution_count": 31,
     "metadata": {},
     "output_type": "execute_result"
    },
    {
     "data": {
      "image/png": "[encoded data removed]",
      "text/plain": [
       "<Figure size 432x288 with 1 Axes>"
      ]
     },
     "metadata": {
      "needs_background": "light"
     },
     "output_type": "display_data"
    }
   ],
   "source": [
    "usedcarsales.Price.plot(kind='hist') # Histogram of Price"
   ]
  },
  {
   "cell_type": "code",
   "execution_count": 32,
   "metadata": {},
   "outputs": [
    {
     "data": {
      "text/plain": [
       "<AxesSubplot:>"
      ]
     },
     "execution_count": 32,
     "metadata": {},
     "output_type": "execute_result"
    },
    {
     "data": {
      "image/png": "[encoded data removed]",
      "text/plain": [
       "<Figure size 432x288 with 1 Axes>"
      ]
     },
     "metadata": {
      "needs_background": "light"
     },
     "output_type": "display_data"
    }
   ],
   "source": [
    "usedcarsales.Price.plot(kind='box',vert=False)"
   ]
  },
  {
   "cell_type": "code",
   "execution_count": 33,
   "metadata": {},
   "outputs": [
    {
     "data": {
      "text/plain": [
       "<AxesSubplot:ylabel='Density'>"
      ]
     },
     "execution_count": 33,
     "metadata": {},
     "output_type": "execute_result"
    },
    {
     "data": {
      "image/png": "[encoded data removed]",
      "text/plain": [
       "<Figure size 432x288 with 1 Axes>"
      ]
     },
     "metadata": {
      "needs_background": "light"
     },
     "output_type": "display_data"
    }
   ],
   "source": [
    "usedcarsales.Price.plot(kind='density')"
   ]
  },
  {
   "cell_type": "code",
   "execution_count": 34,
   "metadata": {},
   "outputs": [],
   "source": [
    "# Create Histogram, Boxplot & Density for Variable 'Age'"
   ]
  },
  {
   "cell_type": "code",
   "execution_count": 35,
   "metadata": {},
   "outputs": [
    {
     "data": {
      "text/plain": [
       "<AxesSubplot:ylabel='Frequency'>"
      ]
     },
     "execution_count": 35,
     "metadata": {},
     "output_type": "execute_result"
    },
    {
     "data": {
      "image/png": "[encoded data removed]",
      "text/plain": [
       "<Figure size 432x288 with 1 Axes>"
      ]
     },
     "metadata": {
      "needs_background": "light"
     },
     "output_type": "display_data"
    }
   ],
   "source": [
    "usedcarsales.Age.plot(kind='hist')"
   ]
  },
  {
   "cell_type": "code",
   "execution_count": 36,
   "metadata": {},
   "outputs": [
    {
     "data": {
      "text/plain": [
       "<AxesSubplot:>"
      ]
     },
     "execution_count": 36,
     "metadata": {},
     "output_type": "execute_result"
    },
    {
     "data": {
      "image/png": "[encoded data removed]",
      "text/plain": [
       "<Figure size 432x288 with 1 Axes>"
      ]
     },
     "metadata": {
      "needs_background": "light"
     },
     "output_type": "display_data"
    }
   ],
   "source": [
    "usedcarsales.Age.plot(kind='box',vert=False)"
   ]
  },
  {
   "cell_type": "code",
   "execution_count": 38,
   "metadata": {},
   "outputs": [
    {
     "data": {
      "text/plain": [
       "<AxesSubplot:ylabel='Density'>"
      ]
     },
     "execution_count": 38,
     "metadata": {},
     "output_type": "execute_result"
    },
    {
     "data": {
      "image/png": "[encoded data removed]",
      "text/plain": [
       "<Figure size 432x288 with 1 Axes>"
      ]
     },
     "metadata": {
      "needs_background": "light"
     },
     "output_type": "display_data"
    }
   ],
   "source": [
    "usedcarsales.Age.plot(kind='density')"
   ]
  },
  {
   "cell_type": "code",
   "execution_count": 39,
   "metadata": {},
   "outputs": [],
   "source": [
    "# Correcting Skewness\n",
    "# Positive Skewness - Logarthmic Transformation, Square Root Transformation\n",
    "# Negative Skewness - Exponential Transformation, Power Transformation"
   ]
  },
  {
   "cell_type": "code",
   "execution_count": 41,
   "metadata": {},
   "outputs": [
    {
     "data": {
      "text/plain": [
       "<AxesSubplot:>"
      ]
     },
     "execution_count": 41,
     "metadata": {},
     "output_type": "execute_result"
    },
    {
     "data": {
      "image/png": "[encoded data removed]",
      "text/plain": [
       "<Figure size 432x288 with 1 Axes>"
      ]
     },
     "metadata": {
      "needs_background": "light"
     },
     "output_type": "display_data"
    }
   ],
   "source": [
    "np.log(usedcarsales.Price).plot(kind='box',vert=False) # Logarthmic Transformation"
   ]
  },
  {
   "cell_type": "code",
   "execution_count": 42,
   "metadata": {},
   "outputs": [
    {
     "data": {
      "text/plain": [
       "<AxesSubplot:ylabel='Density'>"
      ]
     },
     "execution_count": 42,
     "metadata": {},
     "output_type": "execute_result"
    },
    {
     "data": {
      "image/png": "[encoded data removed]",
      "text/plain": [
       "<Figure size 432x288 with 1 Axes>"
      ]
     },
     "metadata": {
      "needs_background": "light"
     },
     "output_type": "display_data"
    }
   ],
   "source": [
    "np.log(usedcarsales.Price).plot(kind='density')"
   ]
  },
  {
   "cell_type": "code",
   "execution_count": 47,
   "metadata": {},
   "outputs": [
    {
     "data": {
      "text/plain": [
       "<AxesSubplot:>"
      ]
     },
     "execution_count": 47,
     "metadata": {},
     "output_type": "execute_result"
    },
    {
     "data": {
      "image/png": "[encoded data removed]",
      "text/plain": [
       "<Figure size 432x288 with 1 Axes>"
      ]
     },
     "metadata": {
      "needs_background": "light"
     },
     "output_type": "display_data"
    }
   ],
   "source": [
    "(usedcarsales.Age**2).plot(kind='box',vert=False) # power of 2"
   ]
  },
  {
   "cell_type": "code",
   "execution_count": null,
   "metadata": {},
   "outputs": [],
   "source": []
  }
 ],
 "metadata": {
  "kernelspec": {
   "display_name": "Python 3",
   "language": "python",
   "name": "python3"
  },
  "language_info": {
   "codemirror_mode": {
    "name": "ipython",
    "version": 3
   },
   "file_extension": ".py",
   "mimetype": "text/x-python",
   "name": "python",
   "nbconvert_exporter": "python",
   "pygments_lexer": "ipython3",
   "version": "3.7.7"
  }
 },
 "nbformat": 4,
 "nbformat_minor": 4
}
