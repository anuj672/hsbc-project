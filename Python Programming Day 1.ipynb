{
 "cells": [
  {
   "cell_type": "code",
   "execution_count": 1,
   "metadata": {},
   "outputs": [],
   "source": [
    "# CREATE A FOLDER & NAME IT AS PYTHONFOLDER ANYWHERE ON YOUR SYSTEM\n",
    "# COPY THE FOLDER PATH "
   ]
  },
  {
   "cell_type": "code",
   "execution_count": 2,
   "metadata": {},
   "outputs": [
    {
     "name": "stdout",
     "output_type": "stream",
     "text": [
      "/Users/rajeshprabhakar/Desktop/PythonDataFolder\n"
     ]
    }
   ],
   "source": [
    "# Create Working Directory\n",
    "import os\n",
    "%cd /Users/rajeshprabhakar/Desktop/PythonDataFolder"
   ]
  },
  {
   "cell_type": "code",
   "execution_count": 3,
   "metadata": {},
   "outputs": [],
   "source": [
    "# PYTHON VARIABLES - CONTAINERS FOR STORING DATA VALUES\n",
    "# MUST BE ALPHA NUMERIC - d, df1, \n",
    "# case sensitive - d, D, D1"
   ]
  },
  {
   "cell_type": "code",
   "execution_count": 4,
   "metadata": {},
   "outputs": [],
   "source": [
    "# PYTHON DATA TYPES - BUILT IN\n",
    "# NUMERIC - int, float , complex\n",
    "# Text - str\n",
    "# Sequence Type - list, tupple, range\n",
    "# Mapping Type - dict\n",
    "# Set Type - set, frozen set\n",
    "# Boolean Type - bool\n",
    "# Binary Type - bytes, bytearray,memoryview"
   ]
  },
  {
   "cell_type": "code",
   "execution_count": 5,
   "metadata": {},
   "outputs": [
    {
     "name": "stdout",
     "output_type": "stream",
     "text": [
      "1\n",
      "2.8\n",
      "1j\n"
     ]
    }
   ],
   "source": [
    "# Python Numbers\n",
    "x=1  # int\n",
    "y=2.8 # float\n",
    "z= 1j # complex\n",
    "print(x)\n",
    "print(y)\n",
    "print(z)"
   ]
  },
  {
   "cell_type": "code",
   "execution_count": 6,
   "metadata": {},
   "outputs": [
    {
     "name": "stdout",
     "output_type": "stream",
     "text": [
      "<class 'int'>\n",
      "<class 'float'>\n",
      "<class 'complex'>\n"
     ]
    }
   ],
   "source": [
    "print(type(x))\n",
    "print(type(y))\n",
    "print(type(z))"
   ]
  },
  {
   "cell_type": "code",
   "execution_count": 7,
   "metadata": {},
   "outputs": [],
   "source": [
    "# PreDefined Functions - called by name\n",
    "# print() - print function name & function names will be in smallcaps\n",
    "# every function must have paranthesis or round brackets\n",
    "# either paranthesis will be Null or give arguments within paranthesis\n",
    "# multiple arguments in paranthesis seperated by comma , with in square \n",
    "# brackets"
   ]
  },
  {
   "cell_type": "code",
   "execution_count": 10,
   "metadata": {},
   "outputs": [
    {
     "name": "stdout",
     "output_type": "stream",
     "text": [
      "<class 'float'>\n",
      "<class 'int'>\n",
      "<class 'complex'>\n"
     ]
    }
   ],
   "source": [
    "# Conversions - int to float, float to int, int to complex\n",
    "a=float(x) \n",
    "b=int(y)\n",
    "c=complex(x)\n",
    "print(type(a))\n",
    "print(type(b))\n",
    "print(type(c))"
   ]
  },
  {
   "cell_type": "code",
   "execution_count": 11,
   "metadata": {},
   "outputs": [
    {
     "name": "stdout",
     "output_type": "stream",
     "text": [
      "[23, 24, 25, 26, 26, 28, 39, 39]\n",
      "['AAA', 'BBB', 'john', 'X']\n",
      "[True, False, True, False]\n"
     ]
    }
   ],
   "source": [
    "# Sequence Types - List also called as arrays\n",
    "# LIST IS A COLLECTION OF ORDERED AND MUTABLE OR APPENDABLE ARRAY, allows\n",
    "# duplicates. List start with [] & items sepearated by comma\n",
    "numericlist=[23,24,25,26,26,28,39,39]\n",
    "charcaterlist=['AAA',\"BBB\",\"john\",'X']\n",
    "booleanlist=[True,False,True,False]\n",
    "print(numericlist)\n",
    "print(charcaterlist)\n",
    "print(booleanlist)"
   ]
  },
  {
   "cell_type": "code",
   "execution_count": 12,
   "metadata": {},
   "outputs": [
    {
     "name": "stdout",
     "output_type": "stream",
     "text": [
      "23\n"
     ]
    }
   ],
   "source": [
    "# INDEXING  - SELECTION OR SUBSETTING - SQUARE BRACKETS\n",
    "# PYTHON STARTS WITH ZERO - ZERO ROW OR ZERO COLUMN OR ZERO ELEMENT\n",
    "print(numericlist[0]) # Accessing First element"
   ]
  },
  {
   "cell_type": "code",
   "execution_count": 13,
   "metadata": {},
   "outputs": [
    {
     "name": "stdout",
     "output_type": "stream",
     "text": [
      "39\n"
     ]
    }
   ],
   "source": [
    "print(numericlist[-1]) # Accessing Last Element of List"
   ]
  },
  {
   "cell_type": "code",
   "execution_count": 14,
   "metadata": {},
   "outputs": [
    {
     "name": "stdout",
     "output_type": "stream",
     "text": [
      "['BBB', 'john']\n"
     ]
    }
   ],
   "source": [
    "print(charcaterlist[1:3])"
   ]
  },
  {
   "cell_type": "code",
   "execution_count": 15,
   "metadata": {},
   "outputs": [
    {
     "name": "stdout",
     "output_type": "stream",
     "text": [
      "(23, 23, 45, 67, 68, 90)\n",
      "('A', 'BBB', 'C')\n"
     ]
    }
   ],
   "source": [
    "# Sequence Type - Tupple\n",
    "# Tupples are immutable list which is ordered and duplicates allowed\n",
    "# Tupples start with paranthesis or round brackets\n",
    "numerictupple=(23,23,45,67,68,90)\n",
    "charactertupple=('A',\"BBB\",\"C\")\n",
    "print(numerictupple)\n",
    "print(charactertupple)"
   ]
  },
  {
   "cell_type": "code",
   "execution_count": 16,
   "metadata": {},
   "outputs": [
    {
     "name": "stdout",
     "output_type": "stream",
     "text": [
      "45\n"
     ]
    }
   ],
   "source": [
    "print(numerictupple[2])"
   ]
  },
  {
   "cell_type": "code",
   "execution_count": 17,
   "metadata": {},
   "outputs": [
    {
     "name": "stdout",
     "output_type": "stream",
     "text": [
      "{'banana', 'orange', 'apple'}\n"
     ]
    }
   ],
   "source": [
    "# Sequence Type - Set\n",
    "# Set is a collection of unordered and unindexed without duplicates\n",
    "# Set starts with {}\n",
    "fruits={\"apple\",\"banana\",\"orange\"}\n",
    "print(fruits)"
   ]
  },
  {
   "cell_type": "code",
   "execution_count": 18,
   "metadata": {},
   "outputs": [
    {
     "name": "stdout",
     "output_type": "stream",
     "text": [
      "{'cherry', 'banana', 'orange', 'apple'}\n"
     ]
    }
   ],
   "source": [
    "# add or update sets - add - singular & update is multiple\n",
    "fruits.add('cherry')\n",
    "print(fruits)"
   ]
  },
  {
   "cell_type": "code",
   "execution_count": 20,
   "metadata": {},
   "outputs": [
    {
     "name": "stdout",
     "output_type": "stream",
     "text": [
      "{'cherry', 'mango', 'banana', 'orange', 'grapes', 'apple'}\n"
     ]
    }
   ],
   "source": [
    "fruits.update(['mango','grapes'])\n",
    "print(fruits)"
   ]
  },
  {
   "cell_type": "code",
   "execution_count": 21,
   "metadata": {},
   "outputs": [
    {
     "name": "stdout",
     "output_type": "stream",
     "text": [
      "{'brand': 'Ford', 'model': 'Mustang', 'year': 1964}\n"
     ]
    }
   ],
   "source": [
    "#Mapping Type - Dictionaries or dict{} - unordered, appendable & indexed\n",
    "# dicts are like key value pairs\n",
    "dict1={\"brand\": 'Ford',\"model\":'Mustang',\"year\":1964}\n",
    "print(dict1)"
   ]
  },
  {
   "cell_type": "code",
   "execution_count": 22,
   "metadata": {},
   "outputs": [
    {
     "data": {
      "text/plain": [
       "'Mustang'"
      ]
     },
     "execution_count": 22,
     "metadata": {},
     "output_type": "execute_result"
    }
   ],
   "source": [
    "# Accessing of Dictionaries - by refering to key name either square \n",
    "# brackets or get()\n",
    "dict1['model']"
   ]
  },
  {
   "cell_type": "code",
   "execution_count": 23,
   "metadata": {},
   "outputs": [
    {
     "data": {
      "text/plain": [
       "'Mustang'"
      ]
     },
     "execution_count": 23,
     "metadata": {},
     "output_type": "execute_result"
    }
   ],
   "source": [
    "dict1.get('model')"
   ]
  },
  {
   "cell_type": "code",
   "execution_count": 24,
   "metadata": {},
   "outputs": [
    {
     "name": "stdout",
     "output_type": "stream",
     "text": [
      "[23, 24, 25, 26, 26, 28, 39, 39, 99]\n"
     ]
    }
   ],
   "source": [
    "# Appending list - append()\n",
    "numericlist.append(99)\n",
    "print(numericlist)"
   ]
  },
  {
   "cell_type": "code",
   "execution_count": 25,
   "metadata": {},
   "outputs": [
    {
     "name": "stdout",
     "output_type": "stream",
     "text": [
      "[23, 24, 25, 26, 100, 26, 28, 39, 39, 99]\n"
     ]
    }
   ],
   "source": [
    "# Append List in an ordered manner - insert()\n",
    "numericlist.insert(4,100)\n",
    "print(numericlist)"
   ]
  },
  {
   "cell_type": "code",
   "execution_count": 26,
   "metadata": {},
   "outputs": [],
   "source": [
    "# For Appending tupples, Convert tupple into a List \n",
    "# list() will convert tupple to list"
   ]
  },
  {
   "cell_type": "code",
   "execution_count": 27,
   "metadata": {},
   "outputs": [
    {
     "name": "stdout",
     "output_type": "stream",
     "text": [
      "10\n",
      "3\n",
      "6\n",
      "3\n"
     ]
    }
   ],
   "source": [
    "# len() - Length of list or tupple or set or dict\n",
    "print(len(numericlist))\n",
    "print(len(charactertupple))\n",
    "print(len(fruits))\n",
    "print(len(dict1))"
   ]
  },
  {
   "cell_type": "code",
   "execution_count": 28,
   "metadata": {},
   "outputs": [
    {
     "name": "stdout",
     "output_type": "stream",
     "text": [
      "None\n",
      "99\n"
     ]
    }
   ],
   "source": [
    "# remove() & pop() - Lists & Sets but not on tupples\n",
    "print(numericlist.remove(100))\n",
    "print(numericlist.pop())"
   ]
  },
  {
   "cell_type": "code",
   "execution_count": 29,
   "metadata": {},
   "outputs": [],
   "source": [
    "# clear() empties Set\n",
    "# clear() or del empties List\n",
    "# copy() the list\n",
    "\n",
    "# Looping is allowed for Lists, tupples & Dictionaries not allowed for\n",
    "# sets"
   ]
  },
  {
   "cell_type": "code",
   "execution_count": 30,
   "metadata": {},
   "outputs": [],
   "source": [
    "# Logical Conditions \n",
    "# Equals  -  ==\n",
    "# Not Equal - !=\n",
    "# less than - <\n",
    "# greater than - >\n",
    "# less than equal to - <=\n",
    "# greater than equal to - >="
   ]
  },
  {
   "cell_type": "code",
   "execution_count": 31,
   "metadata": {},
   "outputs": [
    {
     "ename": "SyntaxError",
     "evalue": "invalid syntax (<ipython-input-31-987c006efb6f>, line 2)",
     "output_type": "error",
     "traceback": [
      "\u001b[0;36m  File \u001b[0;32m\"<ipython-input-31-987c006efb6f>\"\u001b[0;36m, line \u001b[0;32m2\u001b[0m\n\u001b[0;31m    if test expression: # test expression - Logical test\u001b[0m\n\u001b[0m                     ^\u001b[0m\n\u001b[0;31mSyntaxError\u001b[0m\u001b[0;31m:\u001b[0m invalid syntax\n"
     ]
    }
   ],
   "source": [
    "# If Elif Else\n",
    "if test expression: # test expression - Logical test\n",
    "    statement\n",
    "\n",
    "# IF test expression is true then Statment executed\n",
    "# IF test expression is false then Statment not executed\n",
    "# Indentation mandatory\n",
    "\n",
    "\n",
    "if test expression:\n",
    "    statment of if\n",
    "elif test expression:\n",
    "    statement of if\n",
    "else:\n",
    "    statement of if"
   ]
  },
  {
   "cell_type": "code",
   "execution_count": 36,
   "metadata": {},
   "outputs": [
    {
     "name": "stdout",
     "output_type": "stream",
     "text": [
      "Enter a Number:23\n",
      "Positive Number\n"
     ]
    }
   ],
   "source": [
    "# Identify if number is positive or negative\n",
    "# input() open a input box for entry\n",
    "num=float(input('Enter a Number:'))\n",
    "if num==0:\n",
    "    print('Zero')\n",
    "elif num>0:\n",
    "    print('Positive Number')\n",
    "else:\n",
    "    print('Negative Number')\n"
   ]
  },
  {
   "cell_type": "code",
   "execution_count": 37,
   "metadata": {},
   "outputs": [
    {
     "name": "stdout",
     "output_type": "stream",
     "text": [
      "10\n",
      "11\n",
      "12\n",
      "13\n",
      "14\n",
      "15\n",
      "16\n",
      "17\n",
      "18\n",
      "19\n",
      "20\n",
      "21\n",
      "22\n",
      "23\n",
      "24\n",
      "25\n",
      "26\n",
      "27\n",
      "28\n",
      "29\n"
     ]
    }
   ],
   "source": [
    "# For Loop - iterating over a sequence - range()\n",
    "for x in range(10,30):\n",
    "    print(x)"
   ]
  },
  {
   "cell_type": "code",
   "execution_count": 42,
   "metadata": {},
   "outputs": [
    {
     "name": "stdout",
     "output_type": "stream",
     "text": [
      "Enter Number:5\n",
      "The Factorial of 5 is 120\n"
     ]
    }
   ],
   "source": [
    "# USING FOR LOOP & IF ELSE WRITE A LOOP FOR CALCULATING FACTORIAL OF\n",
    "# A NUMBER\n",
    "number=int(input('Enter Number:'))\n",
    "factorial=1\n",
    "if number <0:\n",
    "    print('Factorial Does not Exist for Negative Numbers ')\n",
    "elif number ==0:\n",
    "    print('Factorial of 0 is 1')\n",
    "else:\n",
    "    for i in range(1,number+1):\n",
    "        factorial=factorial*i\n",
    "    print('The Factorial of',number,\"is\", factorial)"
   ]
  },
  {
   "cell_type": "code",
   "execution_count": 43,
   "metadata": {},
   "outputs": [],
   "source": [
    "# Python Functions - defined by using def keyword. It will only run\n",
    "# when it is called.\n",
    "\n",
    "def functionname():\n",
    "    print(\"output\")"
   ]
  },
  {
   "cell_type": "code",
   "execution_count": 46,
   "metadata": {},
   "outputs": [
    {
     "name": "stdout",
     "output_type": "stream",
     "text": [
      "Enter a number5\n",
      "The factorial of 5 is 120\n"
     ]
    }
   ],
   "source": [
    "# Factorial of number using Recursion & creating function\n",
    "def recur_factorial(n):\n",
    "    if n==1:\n",
    "        return n\n",
    "    else:\n",
    "        return n*recur_factorial(n-1)\n",
    "factnum=int(input('Enter a number'))\n",
    "if factnum<0:\n",
    "    print('No Factorial for Negative Numbers')\n",
    "elif factnum==0:\n",
    "    print(\"Factorial of 0 is 1\")\n",
    "else:\n",
    "    print('The factorial of',factnum,'is',recur_factorial(factnum))"
   ]
  },
  {
   "cell_type": "code",
   "execution_count": 51,
   "metadata": {},
   "outputs": [
    {
     "name": "stdout",
     "output_type": "stream",
     "text": [
      "Enter a Number: 1256\n",
      "Number is Not a Prime number\n",
      "2 times 628  1256\n"
     ]
    }
   ],
   "source": [
    "# Write a program to Check Prime Number?\n",
    "num=int(input('Enter a Number: '))\n",
    "if num >1:\n",
    "    for i in range(2,num):\n",
    "        if (num%i)==0:\n",
    "            print('Number is Not a Prime number')\n",
    "            print(i,'times', num//i,\"\",num)\n",
    "            break\n",
    "    else:\n",
    "        print(num, \"is a prime number\")\n",
    "else:\n",
    "    print(num, \"is not a prime number\")"
   ]
  },
  {
   "cell_type": "code",
   "execution_count": 54,
   "metadata": {},
   "outputs": [
    {
     "name": "stdout",
     "output_type": "stream",
     "text": [
      "27\n",
      "27\n"
     ]
    }
   ],
   "source": [
    "# Python - Lambda functions or anonymous functions\n",
    "# Syntax - lambda arguments : expression\n",
    "\n",
    "# Function using def \n",
    "def cube(n):\n",
    "    return n*n*n\n",
    "print(cube(3))\n",
    "\n",
    "# Lambda Function or Anonymous Function\n",
    "cubelambda = lambda n: n*n*n\n",
    "print(cubelambda(3))"
   ]
  },
  {
   "cell_type": "code",
   "execution_count": 55,
   "metadata": {},
   "outputs": [
    {
     "name": "stdout",
     "output_type": "stream",
     "text": [
      "[1, 4, 9, 16, 25]\n"
     ]
    }
   ],
   "source": [
    "# Lambda functions with For loop\n",
    "square=lambda x : x*x\n",
    "lambdalist=[square(i) for i in [1,2,3,4,5]]\n",
    "print(lambdalist)"
   ]
  },
  {
   "cell_type": "code",
   "execution_count": 88,
   "metadata": {},
   "outputs": [
    {
     "name": "stdout",
     "output_type": "stream",
     "text": [
      "[1, 2, 3, 4, 5, 6, 7, 8, 9, 10, 11, 12, 13, 14, 15, 16, 17, 18, 19]\n",
      "[1, 3, 5, 7, 9, 11, 13, 15, 17, 19]\n",
      "[1, 9, 25, 49, 81, 121, 169, 225, 289, 361]\n"
     ]
    }
   ],
   "source": [
    "# Another Advantage of Lambda function, you can eliminate for loop\n",
    "# map() & filter()\n",
    "numbers=range(1,20)\n",
    "print(list(numbers))\n",
    "\n",
    "# identify oddnumbers\n",
    "oddnumbers=list(filter(lambda n: n%2!=0,numbers))\n",
    "print(oddnumbers)\n",
    "\n",
    "# Square oddnumbers\n",
    "oddsquare=list(map(lambda n:n*n,oddnumbers))\n",
    "print(list(oddsquare))"
   ]
  },
  {
   "cell_type": "code",
   "execution_count": 92,
   "metadata": {},
   "outputs": [
    {
     "name": "stdout",
     "output_type": "stream",
     "text": [
      "120\n"
     ]
    }
   ],
   "source": [
    "# Write a Factorial code using Lambda function?\n",
    "fact=lambda n:1 if n==0 else n*fact(n-1)\n",
    "print(fact(5))"
   ]
  },
  {
   "cell_type": "code",
   "execution_count": 93,
   "metadata": {},
   "outputs": [],
   "source": [
    "# Python Data Types - Strings are treated as an Array\n",
    "string=\"The Internet Today is Highly Unstable\""
   ]
  },
  {
   "cell_type": "code",
   "execution_count": 94,
   "metadata": {},
   "outputs": [
    {
     "data": {
      "text/plain": [
       "37"
      ]
     },
     "execution_count": 94,
     "metadata": {},
     "output_type": "execute_result"
    }
   ],
   "source": [
    "len(string)"
   ]
  },
  {
   "cell_type": "code",
   "execution_count": 95,
   "metadata": {},
   "outputs": [
    {
     "name": "stdout",
     "output_type": "stream",
     "text": [
      "e I\n"
     ]
    }
   ],
   "source": [
    "print(string[2:5])"
   ]
  },
  {
   "cell_type": "code",
   "execution_count": 96,
   "metadata": {},
   "outputs": [
    {
     "data": {
      "text/plain": [
       "'The Internet Today is Highly Unstable'"
      ]
     },
     "execution_count": 96,
     "metadata": {},
     "output_type": "execute_result"
    }
   ],
   "source": [
    "string.strip() # Removes any white space"
   ]
  },
  {
   "cell_type": "code",
   "execution_count": 97,
   "metadata": {},
   "outputs": [
    {
     "data": {
      "text/plain": [
       "['The', 'Internet', 'Today', 'is', 'Highly', 'Unstable']"
      ]
     },
     "execution_count": 97,
     "metadata": {},
     "output_type": "execute_result"
    }
   ],
   "source": [
    "string.split() # Splits into words based on space"
   ]
  },
  {
   "cell_type": "code",
   "execution_count": 98,
   "metadata": {},
   "outputs": [
    {
     "data": {
      "text/plain": [
       "'the internet today is highly unstable'"
      ]
     },
     "execution_count": 98,
     "metadata": {},
     "output_type": "execute_result"
    }
   ],
   "source": [
    "string.lower() # Lower case"
   ]
  },
  {
   "cell_type": "code",
   "execution_count": 99,
   "metadata": {},
   "outputs": [
    {
     "data": {
      "text/plain": [
       "'THE INTERNET TODAY IS HIGHLY UNSTABLE'"
      ]
     },
     "execution_count": 99,
     "metadata": {},
     "output_type": "execute_result"
    }
   ],
   "source": [
    "string.upper() # Upper Case"
   ]
  },
  {
   "cell_type": "code",
   "execution_count": 100,
   "metadata": {},
   "outputs": [
    {
     "data": {
      "text/plain": [
       "'The Internet Today is Highly Problematic'"
      ]
     },
     "execution_count": 100,
     "metadata": {},
     "output_type": "execute_result"
    }
   ],
   "source": [
    "string.replace(\"Unstable\",\"Problematic\") # Word to be replaced first \n",
    "# followed by the word which replaces"
   ]
  },
  {
   "cell_type": "code",
   "execution_count": 101,
   "metadata": {},
   "outputs": [
    {
     "name": "stdout",
     "output_type": "stream",
     "text": [
      "True\n"
     ]
    }
   ],
   "source": [
    "x= \"Internet\" in string\n",
    "print(x)"
   ]
  },
  {
   "cell_type": "code",
   "execution_count": 102,
   "metadata": {},
   "outputs": [
    {
     "name": "stdout",
     "output_type": "stream",
     "text": [
      "False\n"
     ]
    }
   ],
   "source": [
    "y=\"Unstable\" not in string\n",
    "print(y)"
   ]
  },
  {
   "cell_type": "code",
   "execution_count": 103,
   "metadata": {},
   "outputs": [],
   "source": [
    "# Lambda \n",
    "# Filter - apply a criteria & store the elements which meet criteria\n",
    "# Map - apply the same function or step to each item stored"
   ]
  },
  {
   "cell_type": "code",
   "execution_count": 104,
   "metadata": {},
   "outputs": [],
   "source": [
    "# Python - Object Oriented Programming Language\n",
    "# Everything in Python is an object with its own properies & methods\n",
    "# Class is a object constructor - class\n",
    "# Classes will have built in __init__() function\n",
    "# __init__() is used to assign values"
   ]
  },
  {
   "cell_type": "code",
   "execution_count": 107,
   "metadata": {},
   "outputs": [],
   "source": [
    "# Created Class named Person\n",
    "class Person:\n",
    "    def __init__(self,name,age):\n",
    "        self.name=name\n",
    "        self.age=age\n",
    "# self is a reference to current instance of code & \n",
    "# used for variable access"
   ]
  },
  {
   "cell_type": "code",
   "execution_count": 108,
   "metadata": {},
   "outputs": [],
   "source": [
    "p1=Person(\"John\",30)\n",
    "p2=Person(\"Ann\",26)"
   ]
  },
  {
   "cell_type": "code",
   "execution_count": 110,
   "metadata": {},
   "outputs": [
    {
     "name": "stdout",
     "output_type": "stream",
     "text": [
      "John\n",
      "26\n"
     ]
    }
   ],
   "source": [
    "print(p1.name)\n",
    "print(p2.age)"
   ]
  },
  {
   "cell_type": "code",
   "execution_count": 111,
   "metadata": {},
   "outputs": [],
   "source": [
    "# Python Inheritance\n",
    "# Parent Class - class being inherited from, called base class\n",
    "# Child Class - Class that inherits from another class, derived class"
   ]
  },
  {
   "cell_type": "code",
   "execution_count": 129,
   "metadata": {},
   "outputs": [],
   "source": [
    "class Person:\n",
    "    def __init__(self,fname,lname):\n",
    "        self.firstname=fname\n",
    "        self.lastname=lname\n",
    "    def printname(self):\n",
    "        print(self.firstname,self.lastname)"
   ]
  },
  {
   "cell_type": "code",
   "execution_count": 130,
   "metadata": {},
   "outputs": [
    {
     "name": "stdout",
     "output_type": "stream",
     "text": [
      "John Doe\n"
     ]
    }
   ],
   "source": [
    "z=Person(\"John\",\"Doe\")\n",
    "z.printname()"
   ]
  },
  {
   "cell_type": "code",
   "execution_count": 131,
   "metadata": {},
   "outputs": [],
   "source": [
    "class Student(Person):\n",
    "    pass"
   ]
  },
  {
   "cell_type": "code",
   "execution_count": 132,
   "metadata": {},
   "outputs": [
    {
     "name": "stdout",
     "output_type": "stream",
     "text": [
      "A Pearson\n"
     ]
    }
   ],
   "source": [
    "student1=Student(\"A\",\"Pearson\")\n",
    "student1.printname()"
   ]
  },
  {
   "cell_type": "code",
   "execution_count": 139,
   "metadata": {},
   "outputs": [],
   "source": [
    "class Student(Person):\n",
    "    def __init__(self,fname,lname,year):\n",
    "        super().__init__(fname,lname)\n",
    "        self.graduationyear=year"
   ]
  },
  {
   "cell_type": "code",
   "execution_count": 141,
   "metadata": {},
   "outputs": [
    {
     "name": "stdout",
     "output_type": "stream",
     "text": [
      "2020\n"
     ]
    }
   ],
   "source": [
    "studenta=Student(\"Mike\",\"Olsen\",2020)\n",
    "print(studenta.graduationyear)"
   ]
  },
  {
   "cell_type": "code",
   "execution_count": null,
   "metadata": {},
   "outputs": [],
   "source": []
  }
 ],
 "metadata": {
  "kernelspec": {
   "display_name": "Python 3",
   "language": "python",
   "name": "python3"
  },
  "language_info": {
   "codemirror_mode": {
    "name": "ipython",
    "version": 3
   },
   "file_extension": ".py",
   "mimetype": "text/x-python",
   "name": "python",
   "nbconvert_exporter": "python",
   "pygments_lexer": "ipython3",
   "version": "3.7.7"
  }
 },
 "nbformat": 4,
 "nbformat_minor": 4
}
